{
 "cells": [
  {
   "cell_type": "markdown",
   "id": "bbe3b3e6-45fe-4c47-b094-86a0c118da83",
   "metadata": {},
   "source": [
    "# Comment sentiment analysis"
   ]
  },
  {
   "cell_type": "markdown",
   "id": "7fbaa331-73c5-4fcc-931b-72db65930b8c",
   "metadata": {},
   "source": [
    "## 1) Import dependencies"
   ]
  },
  {
   "cell_type": "code",
   "execution_count": 164,
   "id": "a45977a5-732c-4ab9-be3a-b1696b08e9b3",
   "metadata": {},
   "outputs": [],
   "source": [
    "import os\n",
    "import pandas as pd\n",
    "import tensorflow as tf\n",
    "import numpy as np"
   ]
  },
  {
   "cell_type": "code",
   "execution_count": 165,
   "id": "15f5c4ed-7961-4b0e-8a19-05e65361aee8",
   "metadata": {},
   "outputs": [],
   "source": [
    "df = pd.read_csv('jigsaw-toxic-comment-classification-challenge/train.csv')"
   ]
  },
  {
   "cell_type": "markdown",
   "id": "9f2b4e28-71c2-4983-b31b-619ac835771b",
   "metadata": {},
   "source": [
    "## 2)Know the data"
   ]
  },
  {
   "cell_type": "code",
   "execution_count": 168,
   "id": "77954f70-8ef6-49d9-891f-a5f04f8e009b",
   "metadata": {},
   "outputs": [
    {
     "data": {
      "text/html": [
       "<div>\n",
       "<style scoped>\n",
       "    .dataframe tbody tr th:only-of-type {\n",
       "        vertical-align: middle;\n",
       "    }\n",
       "\n",
       "    .dataframe tbody tr th {\n",
       "        vertical-align: top;\n",
       "    }\n",
       "\n",
       "    .dataframe thead th {\n",
       "        text-align: right;\n",
       "    }\n",
       "</style>\n",
       "<table border=\"1\" class=\"dataframe\">\n",
       "  <thead>\n",
       "    <tr style=\"text-align: right;\">\n",
       "      <th></th>\n",
       "      <th>id</th>\n",
       "      <th>comment_text</th>\n",
       "      <th>toxic</th>\n",
       "      <th>severe_toxic</th>\n",
       "      <th>obscene</th>\n",
       "      <th>threat</th>\n",
       "      <th>insult</th>\n",
       "      <th>identity_hate</th>\n",
       "    </tr>\n",
       "  </thead>\n",
       "  <tbody>\n",
       "    <tr>\n",
       "      <th>6</th>\n",
       "      <td>0002bcb3da6cb337</td>\n",
       "      <td>COCKSUCKER BEFORE YOU PISS AROUND ON MY WORK</td>\n",
       "      <td>1</td>\n",
       "      <td>1</td>\n",
       "      <td>1</td>\n",
       "      <td>0</td>\n",
       "      <td>1</td>\n",
       "      <td>0</td>\n",
       "    </tr>\n",
       "    <tr>\n",
       "      <th>55</th>\n",
       "      <td>0020e7119b96eeeb</td>\n",
       "      <td>Stupid peace of shit stop deleting my stuff as...</td>\n",
       "      <td>1</td>\n",
       "      <td>1</td>\n",
       "      <td>1</td>\n",
       "      <td>0</td>\n",
       "      <td>1</td>\n",
       "      <td>0</td>\n",
       "    </tr>\n",
       "    <tr>\n",
       "      <th>181</th>\n",
       "      <td>006e87872c8b370c</td>\n",
       "      <td>you are a stupid fuck \\n\\nand your mother's cu...</td>\n",
       "      <td>1</td>\n",
       "      <td>1</td>\n",
       "      <td>1</td>\n",
       "      <td>0</td>\n",
       "      <td>1</td>\n",
       "      <td>0</td>\n",
       "    </tr>\n",
       "    <tr>\n",
       "      <th>442</th>\n",
       "      <td>01208d2b76624130</td>\n",
       "      <td>Hi \\n\\nIm a fucking bitch.\\n\\n50.180.208.181</td>\n",
       "      <td>1</td>\n",
       "      <td>1</td>\n",
       "      <td>1</td>\n",
       "      <td>0</td>\n",
       "      <td>1</td>\n",
       "      <td>0</td>\n",
       "    </tr>\n",
       "    <tr>\n",
       "      <th>579</th>\n",
       "      <td>018663f910e0bfe6</td>\n",
       "      <td>What a motherfucking piece of crap those fuckh...</td>\n",
       "      <td>1</td>\n",
       "      <td>1</td>\n",
       "      <td>1</td>\n",
       "      <td>0</td>\n",
       "      <td>1</td>\n",
       "      <td>0</td>\n",
       "    </tr>\n",
       "    <tr>\n",
       "      <th>...</th>\n",
       "      <td>...</td>\n",
       "      <td>...</td>\n",
       "      <td>...</td>\n",
       "      <td>...</td>\n",
       "      <td>...</td>\n",
       "      <td>...</td>\n",
       "      <td>...</td>\n",
       "      <td>...</td>\n",
       "    </tr>\n",
       "    <tr>\n",
       "      <th>159096</th>\n",
       "      <td>f871b05d4caa6f20</td>\n",
       "      <td>You filthy, stinking crow! \\n\\nI am back! Dirt...</td>\n",
       "      <td>1</td>\n",
       "      <td>1</td>\n",
       "      <td>1</td>\n",
       "      <td>0</td>\n",
       "      <td>1</td>\n",
       "      <td>0</td>\n",
       "    </tr>\n",
       "    <tr>\n",
       "      <th>159099</th>\n",
       "      <td>f885a3e2d779342e</td>\n",
       "      <td>now\\n\\nyou fucking pathetic moron. \\n\\ncc:  Ji...</td>\n",
       "      <td>1</td>\n",
       "      <td>1</td>\n",
       "      <td>1</td>\n",
       "      <td>0</td>\n",
       "      <td>1</td>\n",
       "      <td>0</td>\n",
       "    </tr>\n",
       "    <tr>\n",
       "      <th>159281</th>\n",
       "      <td>fb726deec64157bd</td>\n",
       "      <td>LoL!! \\n\\nyou're GAY!! you will never know how...</td>\n",
       "      <td>1</td>\n",
       "      <td>1</td>\n",
       "      <td>1</td>\n",
       "      <td>0</td>\n",
       "      <td>1</td>\n",
       "      <td>1</td>\n",
       "    </tr>\n",
       "    <tr>\n",
       "      <th>159312</th>\n",
       "      <td>fbf20e312cd4a78d</td>\n",
       "      <td>Walter Mercado \\n\\nAntonio, quite frankly, you...</td>\n",
       "      <td>1</td>\n",
       "      <td>1</td>\n",
       "      <td>1</td>\n",
       "      <td>0</td>\n",
       "      <td>1</td>\n",
       "      <td>0</td>\n",
       "    </tr>\n",
       "    <tr>\n",
       "      <th>159400</th>\n",
       "      <td>fd052883fa6a8697</td>\n",
       "      <td>Shalom \\n\\nSemite, get the fuck out of here. I...</td>\n",
       "      <td>1</td>\n",
       "      <td>1</td>\n",
       "      <td>1</td>\n",
       "      <td>1</td>\n",
       "      <td>1</td>\n",
       "      <td>1</td>\n",
       "    </tr>\n",
       "  </tbody>\n",
       "</table>\n",
       "<p>1595 rows × 8 columns</p>\n",
       "</div>"
      ],
      "text/plain": [
       "                      id                                       comment_text  \\\n",
       "6       0002bcb3da6cb337       COCKSUCKER BEFORE YOU PISS AROUND ON MY WORK   \n",
       "55      0020e7119b96eeeb  Stupid peace of shit stop deleting my stuff as...   \n",
       "181     006e87872c8b370c  you are a stupid fuck \\n\\nand your mother's cu...   \n",
       "442     01208d2b76624130       Hi \\n\\nIm a fucking bitch.\\n\\n50.180.208.181   \n",
       "579     018663f910e0bfe6  What a motherfucking piece of crap those fuckh...   \n",
       "...                  ...                                                ...   \n",
       "159096  f871b05d4caa6f20  You filthy, stinking crow! \\n\\nI am back! Dirt...   \n",
       "159099  f885a3e2d779342e  now\\n\\nyou fucking pathetic moron. \\n\\ncc:  Ji...   \n",
       "159281  fb726deec64157bd  LoL!! \\n\\nyou're GAY!! you will never know how...   \n",
       "159312  fbf20e312cd4a78d  Walter Mercado \\n\\nAntonio, quite frankly, you...   \n",
       "159400  fd052883fa6a8697  Shalom \\n\\nSemite, get the fuck out of here. I...   \n",
       "\n",
       "        toxic  severe_toxic  obscene  threat  insult  identity_hate  \n",
       "6           1             1        1       0       1              0  \n",
       "55          1             1        1       0       1              0  \n",
       "181         1             1        1       0       1              0  \n",
       "442         1             1        1       0       1              0  \n",
       "579         1             1        1       0       1              0  \n",
       "...       ...           ...      ...     ...     ...            ...  \n",
       "159096      1             1        1       0       1              0  \n",
       "159099      1             1        1       0       1              0  \n",
       "159281      1             1        1       0       1              1  \n",
       "159312      1             1        1       0       1              0  \n",
       "159400      1             1        1       1       1              1  \n",
       "\n",
       "[1595 rows x 8 columns]"
      ]
     },
     "execution_count": 168,
     "metadata": {},
     "output_type": "execute_result"
    }
   ],
   "source": [
    "df[(df['severe_toxic'] == 1) & (df['toxic'] == 1)]"
   ]
  },
  {
   "cell_type": "markdown",
   "id": "c58624fb-33a5-465d-b53e-94d362cad016",
   "metadata": {},
   "source": [
    "Observe that when a comment is severe toxic, it is also toxic, to simplify our model we will just remove the severely toxic column. This decision was made because there is no clear boundary of differences between the two categories: toxic and severe_toxic"
   ]
  },
  {
   "cell_type": "code",
   "execution_count": 169,
   "id": "5366c433-f715-4e76-8f8c-657c93215289",
   "metadata": {},
   "outputs": [],
   "source": [
    "df = df.drop(columns=['severe_toxic'])"
   ]
  },
  {
   "cell_type": "code",
   "execution_count": 170,
   "id": "055e6dd3-7dd0-4675-80ca-936678991232",
   "metadata": {
    "scrolled": true
   },
   "outputs": [
    {
     "data": {
      "text/html": [
       "<div>\n",
       "<style scoped>\n",
       "    .dataframe tbody tr th:only-of-type {\n",
       "        vertical-align: middle;\n",
       "    }\n",
       "\n",
       "    .dataframe tbody tr th {\n",
       "        vertical-align: top;\n",
       "    }\n",
       "\n",
       "    .dataframe thead th {\n",
       "        text-align: right;\n",
       "    }\n",
       "</style>\n",
       "<table border=\"1\" class=\"dataframe\">\n",
       "  <thead>\n",
       "    <tr style=\"text-align: right;\">\n",
       "      <th></th>\n",
       "      <th>id</th>\n",
       "      <th>comment_text</th>\n",
       "      <th>toxic</th>\n",
       "      <th>obscene</th>\n",
       "      <th>threat</th>\n",
       "      <th>insult</th>\n",
       "      <th>identity_hate</th>\n",
       "    </tr>\n",
       "  </thead>\n",
       "  <tbody>\n",
       "    <tr>\n",
       "      <th>0</th>\n",
       "      <td>0000997932d777bf</td>\n",
       "      <td>Explanation\\nWhy the edits made under my usern...</td>\n",
       "      <td>0</td>\n",
       "      <td>0</td>\n",
       "      <td>0</td>\n",
       "      <td>0</td>\n",
       "      <td>0</td>\n",
       "    </tr>\n",
       "    <tr>\n",
       "      <th>1</th>\n",
       "      <td>000103f0d9cfb60f</td>\n",
       "      <td>D'aww! He matches this background colour I'm s...</td>\n",
       "      <td>0</td>\n",
       "      <td>0</td>\n",
       "      <td>0</td>\n",
       "      <td>0</td>\n",
       "      <td>0</td>\n",
       "    </tr>\n",
       "    <tr>\n",
       "      <th>2</th>\n",
       "      <td>000113f07ec002fd</td>\n",
       "      <td>Hey man, I'm really not trying to edit war. It...</td>\n",
       "      <td>0</td>\n",
       "      <td>0</td>\n",
       "      <td>0</td>\n",
       "      <td>0</td>\n",
       "      <td>0</td>\n",
       "    </tr>\n",
       "    <tr>\n",
       "      <th>3</th>\n",
       "      <td>0001b41b1c6bb37e</td>\n",
       "      <td>\"\\nMore\\nI can't make any real suggestions on ...</td>\n",
       "      <td>0</td>\n",
       "      <td>0</td>\n",
       "      <td>0</td>\n",
       "      <td>0</td>\n",
       "      <td>0</td>\n",
       "    </tr>\n",
       "    <tr>\n",
       "      <th>4</th>\n",
       "      <td>0001d958c54c6e35</td>\n",
       "      <td>You, sir, are my hero. Any chance you remember...</td>\n",
       "      <td>0</td>\n",
       "      <td>0</td>\n",
       "      <td>0</td>\n",
       "      <td>0</td>\n",
       "      <td>0</td>\n",
       "    </tr>\n",
       "  </tbody>\n",
       "</table>\n",
       "</div>"
      ],
      "text/plain": [
       "                 id                                       comment_text  toxic  \\\n",
       "0  0000997932d777bf  Explanation\\nWhy the edits made under my usern...      0   \n",
       "1  000103f0d9cfb60f  D'aww! He matches this background colour I'm s...      0   \n",
       "2  000113f07ec002fd  Hey man, I'm really not trying to edit war. It...      0   \n",
       "3  0001b41b1c6bb37e  \"\\nMore\\nI can't make any real suggestions on ...      0   \n",
       "4  0001d958c54c6e35  You, sir, are my hero. Any chance you remember...      0   \n",
       "\n",
       "   obscene  threat  insult  identity_hate  \n",
       "0        0       0       0              0  \n",
       "1        0       0       0              0  \n",
       "2        0       0       0              0  \n",
       "3        0       0       0              0  \n",
       "4        0       0       0              0  "
      ]
     },
     "execution_count": 170,
     "metadata": {},
     "output_type": "execute_result"
    }
   ],
   "source": [
    "df.head()"
   ]
  },
  {
   "cell_type": "markdown",
   "id": "b62712ba-dce9-4e43-9d98-1df459069e3d",
   "metadata": {},
   "source": [
    "## 3) Preprocess the data"
   ]
  },
  {
   "cell_type": "code",
   "execution_count": 171,
   "id": "971402e6-2f31-4429-b55e-19650a0b213d",
   "metadata": {},
   "outputs": [],
   "source": [
    "from tensorflow.keras.layers import TextVectorization"
   ]
  },
  {
   "cell_type": "code",
   "execution_count": 172,
   "id": "2aca6c2c-00f3-405b-bf47-0efcb4f9fa70",
   "metadata": {},
   "outputs": [],
   "source": [
    "X = df['comment_text']\n",
    "y = df[df.columns[2:]].values"
   ]
  },
  {
   "cell_type": "code",
   "execution_count": 173,
   "id": "c8bd48bd-0712-44db-922e-9c51125d1a0a",
   "metadata": {},
   "outputs": [],
   "source": [
    "MAX_FEATURES = 200000"
   ]
  },
  {
   "cell_type": "code",
   "execution_count": 174,
   "id": "e0416d48-2307-4c18-9a43-4baeb577722a",
   "metadata": {},
   "outputs": [],
   "source": [
    "vectorizer = TextVectorization(max_tokens=MAX_FEATURES,\n",
    "                               output_sequence_length=1800,\n",
    "                               output_mode='int')"
   ]
  },
  {
   "cell_type": "code",
   "execution_count": 175,
   "id": "f746a0a1-7c59-4965-8111-3f8b3f81544e",
   "metadata": {},
   "outputs": [],
   "source": [
    "vectorizer.adapt(X.values)"
   ]
  },
  {
   "cell_type": "code",
   "execution_count": 152,
   "id": "8c8b8748-95fe-43a6-9b48-6b5f15e7cae1",
   "metadata": {},
   "outputs": [],
   "source": [
    "vectorized_text = vectorizer(X.values)"
   ]
  },
  {
   "cell_type": "markdown",
   "id": "43d97e23-ddd3-4c93-97f9-0db98b33455d",
   "metadata": {},
   "source": [
    "## 4) Fix imbalance in data by SMOTE"
   ]
  },
  {
   "cell_type": "code",
   "execution_count": 176,
   "id": "29fc604c-7779-4e46-b9fa-40b43d4ac82f",
   "metadata": {},
   "outputs": [
    {
     "name": "stdout",
     "output_type": "stream",
     "text": [
      "toxic [(0, 144277), (1, 15294)]\n",
      "obscene [(0, 151122), (1, 8449)]\n",
      "threat [(0, 159093), (1, 478)]\n",
      "insult [(0, 151694), (1, 7877)]\n",
      "identity_hate [(0, 158166), (1, 1405)]\n"
     ]
    }
   ],
   "source": [
    "from collections import Counter\n",
    "print('toxic',sorted(Counter(df['toxic']).items()))\n",
    "print('obscene',sorted(Counter(df['obscene']).items()))\n",
    "print('threat',sorted(Counter(df['threat']).items()))\n",
    "print('insult',sorted(Counter(df['insult']).items()))\n",
    "print('identity_hate',sorted(Counter(df['identity_hate']).items()))"
   ]
  },
  {
   "cell_type": "markdown",
   "id": "8fd5cff3-cd4e-4873-889f-effb3c350ca4",
   "metadata": {},
   "source": [
    "We can see that many classes are imbalanced, if we do not fix this, our model will be unable to identify true positives or false negatives."
   ]
  },
  {
   "cell_type": "code",
   "execution_count": 154,
   "id": "53c29025-76e3-4d1b-8afb-3685caad8111",
   "metadata": {},
   "outputs": [],
   "source": [
    "from imblearn.over_sampling import SMOTE"
   ]
  },
  {
   "cell_type": "code",
   "execution_count": 155,
   "id": "53451167-98c4-4a91-ae41-f11a60930a40",
   "metadata": {},
   "outputs": [],
   "source": [
    "labels = ['toxic', 'obscene', 'threat', 'insult', 'identity_hate']\n",
    "oversampled_data = {}\n",
    "smote = SMOTE(sampling_strategy='auto', random_state=42)"
   ]
  },
  {
   "cell_type": "code",
   "execution_count": 156,
   "id": "0b0795ee-1388-4e5c-927f-09e90fadd439",
   "metadata": {},
   "outputs": [
    {
     "name": "stdout",
     "output_type": "stream",
     "text": [
      "label : toxic\n",
      "0 => 144277\n",
      "1 => 144277\n",
      "label : obscene\n",
      "0 => 151122\n",
      "1 => 151122\n",
      "label : threat\n",
      "0 => 159093\n",
      "1 => 159093\n",
      "label : insult\n",
      "0 => 151694\n",
      "1 => 151694\n",
      "label : identity_hate\n",
      "0 => 158166\n",
      "1 => 158166\n"
     ]
    }
   ],
   "source": [
    "for label in labels:\n",
    "    y = df[label].values  \n",
    "\n",
    "    # SMOTE \n",
    "    X_resampled, y_resampled = smote.fit_resample(vectorized_text, y)\n",
    "\n",
    "    # oversampled\n",
    "    oversampled_data[label] = (X_resampled, y_resampled)\n",
    "\n",
    "    unique, counts = np.unique(y_resampled, return_counts=True)\n",
    "    class_counts = dict(zip(unique, counts))\n",
    "    print(f'label : {label}')\n",
    "    print('0 =>', class_counts[0])\n",
    "    print('1 =>', class_counts[1])"
   ]
  },
  {
   "cell_type": "markdown",
   "id": "d89cf89a-1d76-4fc7-8b63-34982df09126",
   "metadata": {},
   "source": [
    "## 5) Sequential model"
   ]
  },
  {
   "cell_type": "code",
   "execution_count": 157,
   "id": "a670825c-2e51-4c3e-a71d-ff0de3584068",
   "metadata": {},
   "outputs": [],
   "source": [
    "from tensorflow.keras.models import Sequential\n",
    "from tensorflow.keras.layers import LSTM, Dropout, Bidirectional, Dense, Embedding\n",
    "import matplotlib.pyplot as plt\n",
    "from tensorflow.keras.callbacks import ModelCheckpoint"
   ]
  },
  {
   "cell_type": "code",
   "execution_count": 158,
   "id": "11759757-6e57-465a-b12c-b8d7bbf3d975",
   "metadata": {},
   "outputs": [],
   "source": [
    "model = Sequential()\n",
    "# Create the embedding layer \n",
    "model.add(Embedding(MAX_FEATURES + 1, 32))\n",
    "# Bidirectional LSTM Layer\n",
    "model.add(Bidirectional(LSTM(32, activation='tanh')))\n",
    "# Feature extractor Fully connected layers\n",
    "model.add(Dense(128, activation='relu'))\n",
    "model.add(Dense(256, activation='relu'))\n",
    "model.add(Dense(128, activation='relu'))\n",
    "# Final layer \n",
    "model.add(Dense(1, activation='sigmoid'))"
   ]
  },
  {
   "cell_type": "code",
   "execution_count": 159,
   "id": "cc051263-2f61-42c5-9cd9-892863471270",
   "metadata": {},
   "outputs": [],
   "source": [
    "model.compile(\n",
    "    optimizer='adam',\n",
    "    loss='binary_crossentropy',\n",
    "    metrics=['accuracy', 'Precision', 'Recall', 'AUC']\n",
    ")"
   ]
  },
  {
   "cell_type": "markdown",
   "id": "c08df3fb-7e8a-4bb0-9d6c-e3dd9b8be5bf",
   "metadata": {},
   "source": [
    "## 6) Train each category "
   ]
  },
  {
   "cell_type": "code",
   "execution_count": 160,
   "id": "685b2471-74f2-4232-a6c5-434be8b36247",
   "metadata": {},
   "outputs": [],
   "source": [
    "result = {}"
   ]
  },
  {
   "cell_type": "code",
   "execution_count": null,
   "id": "3afbcc2e-b90b-4544-a2e0-1e45973813a5",
   "metadata": {
    "scrolled": true
   },
   "outputs": [],
   "source": [
    "for label in oversampled_data:\n",
    "    \n",
    "    label_X = oversampled_data[label][0]\n",
    "    label_y = oversampled_data[label][1]\n",
    "\n",
    "    # Determine dataset size\n",
    "    dataset_size = len(label_X)\n",
    "\n",
    "   # Create tf.data.Dataset\n",
    "    dataset = tf.data.Dataset.from_tensor_slices((label_X, label_y)).cache().shuffle(dataset_size)\n",
    "\n",
    "    # Split dataset into training, validation, and test sets\n",
    "    train_size = int(dataset_size * 0.7)\n",
    "    val_size = int(dataset_size * 0.2)\n",
    "\n",
    "   # Split and batch datasets\n",
    "    train_dataset = dataset.take(train_size).batch(24).prefetch(8)\n",
    "    val_dataset = dataset.skip(train_size).take(val_size).batch(24).prefetch(8)\n",
    "    test_dataset = dataset.skip(train_size + val_size).batch(24).prefetch(8)\n",
    "\n",
    "    # Initialize ModelCheckpoint callback for this label\n",
    "    checkpoint_callback = ModelCheckpoint(\n",
    "        filepath=f'models/model_{label}_{{epoch}}.keras',  # Unique file for each label\n",
    "        save_best_only=False,\n",
    "        save_weights_only=False,\n",
    "        verbose=1\n",
    "    )\n",
    "    \n",
    "    # Train the model\n",
    "    history = model.fit(\n",
    "        train_dataset,\n",
    "        epochs=4,\n",
    "        validation_data=val_dataset,\n",
    "        callbacks=[checkpoint_callback]\n",
    "    )\n",
    "\n",
    "    # Evaluate the model and unpack all returned values\n",
    "    evaluation_results = model.evaluate(test_dataset, verbose=1)\n",
    "    # Unpack each metric\n",
    "    test_loss, test_accuracy, test_precision, test_recall, test_auc = evaluation_results\n",
    "\n",
    "    result[label] = {\n",
    "        \"test_loss\": test_loss,\n",
    "        \"test_accuracy\": test_accuracy,\n",
    "        \"test_precision\" : test_precision,\n",
    "        \"test_recall\" : test_recall,\n",
    "        \"test_auc\" : test_auc\n",
    "    }\n",
    "    "
   ]
  },
  {
   "cell_type": "code",
   "execution_count": 185,
   "id": "b4013e5a-23ea-4e9f-b855-70d2a8007045",
   "metadata": {},
   "outputs": [
    {
     "name": "stdout",
     "output_type": "stream",
     "text": [
      "Test Results for All Labels:\n",
      "           Label   Loss Accuracy Precision  Recall\n",
      "0          toxic  5.37%   98.27%    98.19%  98.34%\n",
      "1        obscene  2.42%   99.20%    99.24%  99.17%\n",
      "2         threat  0.84%   99.76%    99.91%  99.61%\n",
      "3         insult  1.72%   99.37%    99.44%  99.29%\n",
      "4  identity_hate  0.64%   99.77%    99.74%  99.80%\n"
     ]
    }
   ],
   "source": [
    "# Printing overall results\n",
    "results_data = []\n",
    "\n",
    "# Collect the results in a list of dictionaries\n",
    "for label, metrics in result.items():\n",
    "    results_data.append({\n",
    "        \"Label\": label,\n",
    "        \"Loss\": f\"{metrics['test_loss']*100:.2f}%\",\n",
    "        \"Accuracy\": f\"{metrics['test_accuracy']*100:.2f}%\",\n",
    "        \"Precision\": f\"{metrics['test_precision']*100:.2f}%\",\n",
    "        \"Recall\": f\"{metrics['test_recall']*100:.2f}%\",\n",
    "    })\n",
    "\n",
    "# Create a DataFrame to display the results as a table\n",
    "df = pd.DataFrame(results_data)\n",
    "\n",
    "print(\"Test Results for All Labels:\")\n",
    "print(df)"
   ]
  }
 ],
 "metadata": {
  "kernelspec": {
   "display_name": "Python 3 (ipykernel)",
   "language": "python",
   "name": "python3"
  },
  "language_info": {
   "codemirror_mode": {
    "name": "ipython",
    "version": 3
   },
   "file_extension": ".py",
   "mimetype": "text/x-python",
   "name": "python",
   "nbconvert_exporter": "python",
   "pygments_lexer": "ipython3",
   "version": "3.12.7"
  }
 },
 "nbformat": 4,
 "nbformat_minor": 5
}
