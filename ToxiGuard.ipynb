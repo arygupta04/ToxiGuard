{
 "cells": [
  {
   "attachments": {},
   "cell_type": "markdown",
   "id": "bbe3b3e6-45fe-4c47-b094-86a0c118da83",
   "metadata": {},
   "source": [
    "# TOXIGUARD"
   ]
  },
  {
   "cell_type": "markdown",
   "id": "7fbaa331-73c5-4fcc-931b-72db65930b8c",
   "metadata": {},
   "source": [
    "## 1) Import dependencies"
   ]
  },
  {
   "cell_type": "code",
   "execution_count": 85,
   "id": "a45977a5-732c-4ab9-be3a-b1696b08e9b3",
   "metadata": {},
   "outputs": [],
   "source": [
    "import os\n",
    "import pandas as pd\n",
    "import tensorflow as tf\n",
    "import numpy as np\n",
    "from tensorflow.keras.callbacks import EarlyStopping\n"
   ]
  },
  {
   "cell_type": "markdown",
   "id": "9f2b4e28-71c2-4983-b31b-619ac835771b",
   "metadata": {},
   "source": [
    "## 2)Know the data"
   ]
  },
  {
   "cell_type": "code",
   "execution_count": 86,
   "id": "15f5c4ed-7961-4b0e-8a19-05e65361aee8",
   "metadata": {},
   "outputs": [],
   "source": [
    "df = pd.read_csv('jigsaw-toxic-comment-classification-challenge/train.csv')"
   ]
  },
  {
   "cell_type": "code",
   "execution_count": 87,
   "id": "77954f70-8ef6-49d9-891f-a5f04f8e009b",
   "metadata": {},
   "outputs": [
    {
     "data": {
      "text/html": [
       "<div>\n",
       "<style scoped>\n",
       "    .dataframe tbody tr th:only-of-type {\n",
       "        vertical-align: middle;\n",
       "    }\n",
       "\n",
       "    .dataframe tbody tr th {\n",
       "        vertical-align: top;\n",
       "    }\n",
       "\n",
       "    .dataframe thead th {\n",
       "        text-align: right;\n",
       "    }\n",
       "</style>\n",
       "<table border=\"1\" class=\"dataframe\">\n",
       "  <thead>\n",
       "    <tr style=\"text-align: right;\">\n",
       "      <th></th>\n",
       "      <th>id</th>\n",
       "      <th>comment_text</th>\n",
       "      <th>toxic</th>\n",
       "      <th>severe_toxic</th>\n",
       "      <th>obscene</th>\n",
       "      <th>threat</th>\n",
       "      <th>insult</th>\n",
       "      <th>identity_hate</th>\n",
       "    </tr>\n",
       "  </thead>\n",
       "  <tbody>\n",
       "    <tr>\n",
       "      <th>6</th>\n",
       "      <td>0002bcb3da6cb337</td>\n",
       "      <td>COCKSUCKER BEFORE YOU PISS AROUND ON MY WORK</td>\n",
       "      <td>1</td>\n",
       "      <td>1</td>\n",
       "      <td>1</td>\n",
       "      <td>0</td>\n",
       "      <td>1</td>\n",
       "      <td>0</td>\n",
       "    </tr>\n",
       "    <tr>\n",
       "      <th>55</th>\n",
       "      <td>0020e7119b96eeeb</td>\n",
       "      <td>Stupid peace of shit stop deleting my stuff as...</td>\n",
       "      <td>1</td>\n",
       "      <td>1</td>\n",
       "      <td>1</td>\n",
       "      <td>0</td>\n",
       "      <td>1</td>\n",
       "      <td>0</td>\n",
       "    </tr>\n",
       "    <tr>\n",
       "      <th>181</th>\n",
       "      <td>006e87872c8b370c</td>\n",
       "      <td>you are a stupid fuck \\n\\nand your mother's cu...</td>\n",
       "      <td>1</td>\n",
       "      <td>1</td>\n",
       "      <td>1</td>\n",
       "      <td>0</td>\n",
       "      <td>1</td>\n",
       "      <td>0</td>\n",
       "    </tr>\n",
       "    <tr>\n",
       "      <th>442</th>\n",
       "      <td>01208d2b76624130</td>\n",
       "      <td>Hi \\n\\nIm a fucking bitch.\\n\\n50.180.208.181</td>\n",
       "      <td>1</td>\n",
       "      <td>1</td>\n",
       "      <td>1</td>\n",
       "      <td>0</td>\n",
       "      <td>1</td>\n",
       "      <td>0</td>\n",
       "    </tr>\n",
       "    <tr>\n",
       "      <th>579</th>\n",
       "      <td>018663f910e0bfe6</td>\n",
       "      <td>What a motherfucking piece of crap those fuckh...</td>\n",
       "      <td>1</td>\n",
       "      <td>1</td>\n",
       "      <td>1</td>\n",
       "      <td>0</td>\n",
       "      <td>1</td>\n",
       "      <td>0</td>\n",
       "    </tr>\n",
       "    <tr>\n",
       "      <th>...</th>\n",
       "      <td>...</td>\n",
       "      <td>...</td>\n",
       "      <td>...</td>\n",
       "      <td>...</td>\n",
       "      <td>...</td>\n",
       "      <td>...</td>\n",
       "      <td>...</td>\n",
       "      <td>...</td>\n",
       "    </tr>\n",
       "    <tr>\n",
       "      <th>159096</th>\n",
       "      <td>f871b05d4caa6f20</td>\n",
       "      <td>You filthy, stinking crow! \\n\\nI am back! Dirt...</td>\n",
       "      <td>1</td>\n",
       "      <td>1</td>\n",
       "      <td>1</td>\n",
       "      <td>0</td>\n",
       "      <td>1</td>\n",
       "      <td>0</td>\n",
       "    </tr>\n",
       "    <tr>\n",
       "      <th>159099</th>\n",
       "      <td>f885a3e2d779342e</td>\n",
       "      <td>now\\n\\nyou fucking pathetic moron. \\n\\ncc:  Ji...</td>\n",
       "      <td>1</td>\n",
       "      <td>1</td>\n",
       "      <td>1</td>\n",
       "      <td>0</td>\n",
       "      <td>1</td>\n",
       "      <td>0</td>\n",
       "    </tr>\n",
       "    <tr>\n",
       "      <th>159281</th>\n",
       "      <td>fb726deec64157bd</td>\n",
       "      <td>LoL!! \\n\\nyou're GAY!! you will never know how...</td>\n",
       "      <td>1</td>\n",
       "      <td>1</td>\n",
       "      <td>1</td>\n",
       "      <td>0</td>\n",
       "      <td>1</td>\n",
       "      <td>1</td>\n",
       "    </tr>\n",
       "    <tr>\n",
       "      <th>159312</th>\n",
       "      <td>fbf20e312cd4a78d</td>\n",
       "      <td>Walter Mercado \\n\\nAntonio, quite frankly, you...</td>\n",
       "      <td>1</td>\n",
       "      <td>1</td>\n",
       "      <td>1</td>\n",
       "      <td>0</td>\n",
       "      <td>1</td>\n",
       "      <td>0</td>\n",
       "    </tr>\n",
       "    <tr>\n",
       "      <th>159400</th>\n",
       "      <td>fd052883fa6a8697</td>\n",
       "      <td>Shalom \\n\\nSemite, get the fuck out of here. I...</td>\n",
       "      <td>1</td>\n",
       "      <td>1</td>\n",
       "      <td>1</td>\n",
       "      <td>1</td>\n",
       "      <td>1</td>\n",
       "      <td>1</td>\n",
       "    </tr>\n",
       "  </tbody>\n",
       "</table>\n",
       "<p>1595 rows × 8 columns</p>\n",
       "</div>"
      ],
      "text/plain": [
       "                      id                                       comment_text  \\\n",
       "6       0002bcb3da6cb337       COCKSUCKER BEFORE YOU PISS AROUND ON MY WORK   \n",
       "55      0020e7119b96eeeb  Stupid peace of shit stop deleting my stuff as...   \n",
       "181     006e87872c8b370c  you are a stupid fuck \\n\\nand your mother's cu...   \n",
       "442     01208d2b76624130       Hi \\n\\nIm a fucking bitch.\\n\\n50.180.208.181   \n",
       "579     018663f910e0bfe6  What a motherfucking piece of crap those fuckh...   \n",
       "...                  ...                                                ...   \n",
       "159096  f871b05d4caa6f20  You filthy, stinking crow! \\n\\nI am back! Dirt...   \n",
       "159099  f885a3e2d779342e  now\\n\\nyou fucking pathetic moron. \\n\\ncc:  Ji...   \n",
       "159281  fb726deec64157bd  LoL!! \\n\\nyou're GAY!! you will never know how...   \n",
       "159312  fbf20e312cd4a78d  Walter Mercado \\n\\nAntonio, quite frankly, you...   \n",
       "159400  fd052883fa6a8697  Shalom \\n\\nSemite, get the fuck out of here. I...   \n",
       "\n",
       "        toxic  severe_toxic  obscene  threat  insult  identity_hate  \n",
       "6           1             1        1       0       1              0  \n",
       "55          1             1        1       0       1              0  \n",
       "181         1             1        1       0       1              0  \n",
       "442         1             1        1       0       1              0  \n",
       "579         1             1        1       0       1              0  \n",
       "...       ...           ...      ...     ...     ...            ...  \n",
       "159096      1             1        1       0       1              0  \n",
       "159099      1             1        1       0       1              0  \n",
       "159281      1             1        1       0       1              1  \n",
       "159312      1             1        1       0       1              0  \n",
       "159400      1             1        1       1       1              1  \n",
       "\n",
       "[1595 rows x 8 columns]"
      ]
     },
     "execution_count": 87,
     "metadata": {},
     "output_type": "execute_result"
    }
   ],
   "source": [
    "df[(df['severe_toxic'] == 1) & (df['toxic'] == 1)]"
   ]
  },
  {
   "cell_type": "markdown",
   "id": "c58624fb-33a5-465d-b53e-94d362cad016",
   "metadata": {},
   "source": [
    "Observe that when a comment is severe toxic, it is also toxic, to simplify our model we will just remove the severely toxic column. This decision was made because there is no clear boundary of differences between the two categories: toxic and severe_toxic"
   ]
  },
  {
   "cell_type": "code",
   "execution_count": 88,
   "id": "5366c433-f715-4e76-8f8c-657c93215289",
   "metadata": {},
   "outputs": [],
   "source": [
    "df = df.drop(columns=['severe_toxic'])"
   ]
  },
  {
   "cell_type": "code",
   "execution_count": 89,
   "id": "055e6dd3-7dd0-4675-80ca-936678991232",
   "metadata": {
    "scrolled": true
   },
   "outputs": [
    {
     "data": {
      "text/html": [
       "<div>\n",
       "<style scoped>\n",
       "    .dataframe tbody tr th:only-of-type {\n",
       "        vertical-align: middle;\n",
       "    }\n",
       "\n",
       "    .dataframe tbody tr th {\n",
       "        vertical-align: top;\n",
       "    }\n",
       "\n",
       "    .dataframe thead th {\n",
       "        text-align: right;\n",
       "    }\n",
       "</style>\n",
       "<table border=\"1\" class=\"dataframe\">\n",
       "  <thead>\n",
       "    <tr style=\"text-align: right;\">\n",
       "      <th></th>\n",
       "      <th>id</th>\n",
       "      <th>comment_text</th>\n",
       "      <th>toxic</th>\n",
       "      <th>obscene</th>\n",
       "      <th>threat</th>\n",
       "      <th>insult</th>\n",
       "      <th>identity_hate</th>\n",
       "    </tr>\n",
       "  </thead>\n",
       "  <tbody>\n",
       "    <tr>\n",
       "      <th>0</th>\n",
       "      <td>0000997932d777bf</td>\n",
       "      <td>Explanation\\nWhy the edits made under my usern...</td>\n",
       "      <td>0</td>\n",
       "      <td>0</td>\n",
       "      <td>0</td>\n",
       "      <td>0</td>\n",
       "      <td>0</td>\n",
       "    </tr>\n",
       "    <tr>\n",
       "      <th>1</th>\n",
       "      <td>000103f0d9cfb60f</td>\n",
       "      <td>D'aww! He matches this background colour I'm s...</td>\n",
       "      <td>0</td>\n",
       "      <td>0</td>\n",
       "      <td>0</td>\n",
       "      <td>0</td>\n",
       "      <td>0</td>\n",
       "    </tr>\n",
       "    <tr>\n",
       "      <th>2</th>\n",
       "      <td>000113f07ec002fd</td>\n",
       "      <td>Hey man, I'm really not trying to edit war. It...</td>\n",
       "      <td>0</td>\n",
       "      <td>0</td>\n",
       "      <td>0</td>\n",
       "      <td>0</td>\n",
       "      <td>0</td>\n",
       "    </tr>\n",
       "    <tr>\n",
       "      <th>3</th>\n",
       "      <td>0001b41b1c6bb37e</td>\n",
       "      <td>\"\\nMore\\nI can't make any real suggestions on ...</td>\n",
       "      <td>0</td>\n",
       "      <td>0</td>\n",
       "      <td>0</td>\n",
       "      <td>0</td>\n",
       "      <td>0</td>\n",
       "    </tr>\n",
       "    <tr>\n",
       "      <th>4</th>\n",
       "      <td>0001d958c54c6e35</td>\n",
       "      <td>You, sir, are my hero. Any chance you remember...</td>\n",
       "      <td>0</td>\n",
       "      <td>0</td>\n",
       "      <td>0</td>\n",
       "      <td>0</td>\n",
       "      <td>0</td>\n",
       "    </tr>\n",
       "  </tbody>\n",
       "</table>\n",
       "</div>"
      ],
      "text/plain": [
       "                 id                                       comment_text  toxic  \\\n",
       "0  0000997932d777bf  Explanation\\nWhy the edits made under my usern...      0   \n",
       "1  000103f0d9cfb60f  D'aww! He matches this background colour I'm s...      0   \n",
       "2  000113f07ec002fd  Hey man, I'm really not trying to edit war. It...      0   \n",
       "3  0001b41b1c6bb37e  \"\\nMore\\nI can't make any real suggestions on ...      0   \n",
       "4  0001d958c54c6e35  You, sir, are my hero. Any chance you remember...      0   \n",
       "\n",
       "   obscene  threat  insult  identity_hate  \n",
       "0        0       0       0              0  \n",
       "1        0       0       0              0  \n",
       "2        0       0       0              0  \n",
       "3        0       0       0              0  \n",
       "4        0       0       0              0  "
      ]
     },
     "execution_count": 89,
     "metadata": {},
     "output_type": "execute_result"
    }
   ],
   "source": [
    "df.head()"
   ]
  },
  {
   "cell_type": "markdown",
   "id": "b62712ba-dce9-4e43-9d98-1df459069e3d",
   "metadata": {},
   "source": [
    "## 3) Preprocess the data"
   ]
  },
  {
   "cell_type": "code",
   "execution_count": 90,
   "id": "971402e6-2f31-4429-b55e-19650a0b213d",
   "metadata": {},
   "outputs": [],
   "source": [
    "from tensorflow.keras.layers import TextVectorization"
   ]
  },
  {
   "cell_type": "code",
   "execution_count": 91,
   "id": "2aca6c2c-00f3-405b-bf47-0efcb4f9fa70",
   "metadata": {},
   "outputs": [],
   "source": [
    "X = df['comment_text']\n",
    "y = df[['toxic', 'obscene', 'threat', 'insult', 'identity_hate']].values"
   ]
  },
  {
   "cell_type": "code",
   "execution_count": 92,
   "id": "c8bd48bd-0712-44db-922e-9c51125d1a0a",
   "metadata": {},
   "outputs": [],
   "source": [
    "MODEL_PATH = 'best_model.h5'\n",
    "MAX_FEATURES = 200000"
   ]
  },
  {
   "cell_type": "code",
   "execution_count": 93,
   "id": "e0416d48-2307-4c18-9a43-4baeb577722a",
   "metadata": {},
   "outputs": [],
   "source": [
    "vectorizer = TextVectorization(max_tokens=MAX_FEATURES,\n",
    "                               output_sequence_length=1800,\n",
    "                               output_mode='int')"
   ]
  },
  {
   "cell_type": "code",
   "execution_count": 94,
   "id": "f746a0a1-7c59-4965-8111-3f8b3f81544e",
   "metadata": {},
   "outputs": [],
   "source": [
    "vectorizer.adapt(X.values)"
   ]
  },
  {
   "cell_type": "code",
   "execution_count": 95,
   "id": "8c8b8748-95fe-43a6-9b48-6b5f15e7cae1",
   "metadata": {},
   "outputs": [],
   "source": [
    "vectorized_text = vectorizer(X.values)"
   ]
  },
  {
   "cell_type": "code",
   "execution_count": 96,
   "id": "bff4653d",
   "metadata": {},
   "outputs": [],
   "source": [
    "# Create tf.data.Dataset\n",
    "dataset_size = len(vectorized_text)\n",
    "dataset = tf.data.Dataset.from_tensor_slices((vectorized_text, y)).cache().shuffle(dataset_size)"
   ]
  },
  {
   "cell_type": "code",
   "execution_count": 97,
   "id": "817170e5",
   "metadata": {},
   "outputs": [],
   "source": [
    "# Train/val/test split\n",
    "train_size = int(0.7 * dataset_size)\n",
    "val_size = int(0.2 * dataset_size)\n",
    "\n",
    "train_dataset = dataset.take(train_size).batch(32).prefetch(8)\n",
    "val_dataset = dataset.skip(train_size).take(val_size).batch(32).prefetch(8)\n",
    "test_dataset = dataset.skip(train_size + val_size).batch(32).prefetch(8)"
   ]
  },
  {
   "attachments": {},
   "cell_type": "markdown",
   "id": "43d97e23-ddd3-4c93-97f9-0db98b33455d",
   "metadata": {},
   "source": [
    "## 4) Fix imbalance using weighted BCE"
   ]
  },
  {
   "cell_type": "code",
   "execution_count": 98,
   "id": "29fc604c-7779-4e46-b9fa-40b43d4ac82f",
   "metadata": {},
   "outputs": [
    {
     "name": "stdout",
     "output_type": "stream",
     "text": [
      "Per-label weights: [0.02099386 0.03800214 0.67171557 0.04076172 0.22852672]\n"
     ]
    }
   ],
   "source": [
    "# Calculate per-label class weights\n",
    "label_totals = y.sum(axis=0)\n",
    "class_weights = dataset_size / (label_totals + 1e-6)\n",
    "normalized_weights = class_weights / class_weights.sum()\n",
    "\n",
    "print(\"Per-label weights:\", normalized_weights)\n",
    "\n",
    "# Define weighted BCE loss\n",
    "def get_weighted_bce(weights):\n",
    "    weights = tf.constant(weights, dtype=tf.float32)\n",
    "\n",
    "    def weighted_bce(y_true, y_pred):\n",
    "        bce = tf.keras.backend.binary_crossentropy(y_true, y_pred)\n",
    "        return tf.reduce_mean(bce * weights)\n",
    "    \n",
    "    return weighted_bce\n",
    "\n",
    "weighted_loss = get_weighted_bce(normalized_weights)"
   ]
  },
  {
   "cell_type": "markdown",
   "id": "d89cf89a-1d76-4fc7-8b63-34982df09126",
   "metadata": {},
   "source": [
    "## 5) Sequential model"
   ]
  },
  {
   "cell_type": "code",
   "execution_count": 99,
   "id": "a670825c-2e51-4c3e-a71d-ff0de3584068",
   "metadata": {},
   "outputs": [],
   "source": [
    "from tensorflow.keras.models import Sequential\n",
    "from tensorflow.keras.layers import LSTM, Dropout, Bidirectional, Dense, Embedding\n",
    "import matplotlib.pyplot as plt\n",
    "from tensorflow.keras.callbacks import ModelCheckpoint"
   ]
  },
  {
   "cell_type": "code",
   "execution_count": 100,
   "id": "11759757-6e57-465a-b12c-b8d7bbf3d975",
   "metadata": {},
   "outputs": [],
   "source": [
    "model = Sequential()\n",
    "# Create the embedding layer \n",
    "model.add(Embedding(MAX_FEATURES + 1, 32))\n",
    "# Bidirectional LSTM Layer\n",
    "model.add(Bidirectional(LSTM(32, activation='tanh')))\n",
    "# Feature extractor Fully connected layers\n",
    "model.add(Dense(128, activation='relu'))\n",
    "model.add(Dense(256, activation='relu'))\n",
    "model.add(Dense(128, activation='relu'))\n",
    "# Final layer \n",
    "# Multi-label output\n",
    "model.add(Dense(5, activation='sigmoid'))"
   ]
  },
  {
   "cell_type": "code",
   "execution_count": 101,
   "id": "cc051263-2f61-42c5-9cd9-892863471270",
   "metadata": {},
   "outputs": [],
   "source": [
    "model.compile(\n",
    "    optimizer='adam',\n",
    "    loss='binary_crossentropy',\n",
    "    metrics=['accuracy', tf.keras.metrics.Precision(), tf.keras.metrics.Recall()]\n",
    ")"
   ]
  },
  {
   "cell_type": "code",
   "execution_count": 102,
   "id": "64066ced",
   "metadata": {},
   "outputs": [],
   "source": [
    "# Early stopping callback\n",
    "early_stop = EarlyStopping(\n",
    "    monitor='val_loss',\n",
    "    patience=3,\n",
    "    restore_best_weights=True\n",
    ")"
   ]
  },
  {
   "cell_type": "code",
   "execution_count": 103,
   "id": "afa67b87",
   "metadata": {},
   "outputs": [],
   "source": [
    "checkpoint = ModelCheckpoint(\n",
    "    filepath=MODEL_PATH,\n",
    "    monitor='val_loss',\n",
    "    save_best_only=True,\n",
    "    save_weights_only=False\n",
    ")"
   ]
  },
  {
   "attachments": {},
   "cell_type": "markdown",
   "id": "c08df3fb-7e8a-4bb0-9d6c-e3dd9b8be5bf",
   "metadata": {},
   "source": [
    "## 6) Training the model"
   ]
  },
  {
   "cell_type": "code",
   "execution_count": 104,
   "id": "6cfc9c2d",
   "metadata": {},
   "outputs": [
    {
     "name": "stdout",
     "output_type": "stream",
     "text": [
      "Epoch 1/20\n",
      "\u001b[1m3491/3491\u001b[0m \u001b[32m━━━━━━━━━━━━━━━━━━━━\u001b[0m\u001b[37m\u001b[0m \u001b[1m0s\u001b[0m 521ms/step - accuracy: 0.9522 - loss: 0.1021 - precision_3: 0.7093 - recall_3: 0.4516"
     ]
    },
    {
     "name": "stderr",
     "output_type": "stream",
     "text": [
      "WARNING:absl:You are saving your model as an HDF5 file via `model.save()` or `keras.saving.save_model(model)`. This file format is considered legacy. We recommend using instead the native Keras format, e.g. `model.save('my_model.keras')` or `keras.saving.save_model(model, 'my_model.keras')`. \n"
     ]
    },
    {
     "name": "stdout",
     "output_type": "stream",
     "text": [
      "\u001b[1m3491/3491\u001b[0m \u001b[32m━━━━━━━━━━━━━━━━━━━━\u001b[0m\u001b[37m\u001b[0m \u001b[1m1927s\u001b[0m 552ms/step - accuracy: 0.9522 - loss: 0.1021 - precision_3: 0.7093 - recall_3: 0.4517 - val_accuracy: 0.9940 - val_loss: 0.0508 - val_precision_3: 0.7631 - val_recall_3: 0.7863\n",
      "Epoch 2/20\n",
      "\u001b[1m3491/3491\u001b[0m \u001b[32m━━━━━━━━━━━━━━━━━━━━\u001b[0m\u001b[37m\u001b[0m \u001b[1m0s\u001b[0m 398ms/step - accuracy: 0.9923 - loss: 0.0506 - precision_3: 0.8231 - recall_3: 0.7172"
     ]
    },
    {
     "name": "stderr",
     "output_type": "stream",
     "text": [
      "WARNING:absl:You are saving your model as an HDF5 file via `model.save()` or `keras.saving.save_model(model)`. This file format is considered legacy. We recommend using instead the native Keras format, e.g. `model.save('my_model.keras')` or `keras.saving.save_model(model, 'my_model.keras')`. \n"
     ]
    },
    {
     "name": "stdout",
     "output_type": "stream",
     "text": [
      "\u001b[1m3491/3491\u001b[0m \u001b[32m━━━━━━━━━━━━━━━━━━━━\u001b[0m\u001b[37m\u001b[0m \u001b[1m1428s\u001b[0m 409ms/step - accuracy: 0.9923 - loss: 0.0506 - precision_3: 0.8231 - recall_3: 0.7172 - val_accuracy: 0.9942 - val_loss: 0.0465 - val_precision_3: 0.8673 - val_recall_3: 0.6893\n",
      "Epoch 3/20\n",
      "\u001b[1m3491/3491\u001b[0m \u001b[32m━━━━━━━━━━━━━━━━━━━━\u001b[0m\u001b[37m\u001b[0m \u001b[1m0s\u001b[0m 372ms/step - accuracy: 0.9931 - loss: 0.0444 - precision_3: 0.8394 - recall_3: 0.7427"
     ]
    },
    {
     "name": "stderr",
     "output_type": "stream",
     "text": [
      "WARNING:absl:You are saving your model as an HDF5 file via `model.save()` or `keras.saving.save_model(model)`. This file format is considered legacy. We recommend using instead the native Keras format, e.g. `model.save('my_model.keras')` or `keras.saving.save_model(model, 'my_model.keras')`. \n"
     ]
    },
    {
     "name": "stdout",
     "output_type": "stream",
     "text": [
      "\u001b[1m3491/3491\u001b[0m \u001b[32m━━━━━━━━━━━━━━━━━━━━\u001b[0m\u001b[37m\u001b[0m \u001b[1m1344s\u001b[0m 385ms/step - accuracy: 0.9931 - loss: 0.0444 - precision_3: 0.8394 - recall_3: 0.7427 - val_accuracy: 0.9941 - val_loss: 0.0403 - val_precision_3: 0.8717 - val_recall_3: 0.7434\n",
      "Epoch 4/20\n",
      "\u001b[1m3491/3491\u001b[0m \u001b[32m━━━━━━━━━━━━━━━━━━━━\u001b[0m\u001b[37m\u001b[0m \u001b[1m0s\u001b[0m 395ms/step - accuracy: 0.9905 - loss: 0.0409 - precision_3: 0.8492 - recall_3: 0.7722"
     ]
    },
    {
     "name": "stderr",
     "output_type": "stream",
     "text": [
      "WARNING:absl:You are saving your model as an HDF5 file via `model.save()` or `keras.saving.save_model(model)`. This file format is considered legacy. We recommend using instead the native Keras format, e.g. `model.save('my_model.keras')` or `keras.saving.save_model(model, 'my_model.keras')`. \n"
     ]
    },
    {
     "name": "stdout",
     "output_type": "stream",
     "text": [
      "\u001b[1m3491/3491\u001b[0m \u001b[32m━━━━━━━━━━━━━━━━━━━━\u001b[0m\u001b[37m\u001b[0m \u001b[1m1429s\u001b[0m 409ms/step - accuracy: 0.9905 - loss: 0.0409 - precision_3: 0.8492 - recall_3: 0.7722 - val_accuracy: 0.9940 - val_loss: 0.0368 - val_precision_3: 0.8442 - val_recall_3: 0.8293\n",
      "Epoch 5/20\n",
      "\u001b[1m3491/3491\u001b[0m \u001b[32m━━━━━━━━━━━━━━━━━━━━\u001b[0m\u001b[37m\u001b[0m \u001b[1m0s\u001b[0m 370ms/step - accuracy: 0.9939 - loss: 0.0361 - precision_3: 0.8625 - recall_3: 0.8004"
     ]
    },
    {
     "name": "stderr",
     "output_type": "stream",
     "text": [
      "WARNING:absl:You are saving your model as an HDF5 file via `model.save()` or `keras.saving.save_model(model)`. This file format is considered legacy. We recommend using instead the native Keras format, e.g. `model.save('my_model.keras')` or `keras.saving.save_model(model, 'my_model.keras')`. \n"
     ]
    },
    {
     "name": "stdout",
     "output_type": "stream",
     "text": [
      "\u001b[1m3491/3491\u001b[0m \u001b[32m━━━━━━━━━━━━━━━━━━━━\u001b[0m\u001b[37m\u001b[0m \u001b[1m1334s\u001b[0m 382ms/step - accuracy: 0.9939 - loss: 0.0361 - precision_3: 0.8625 - recall_3: 0.8004 - val_accuracy: 0.9945 - val_loss: 0.0301 - val_precision_3: 0.8766 - val_recall_3: 0.8564\n",
      "Epoch 6/20\n",
      "\u001b[1m3491/3491\u001b[0m \u001b[32m━━━━━━━━━━━━━━━━━━━━\u001b[0m\u001b[37m\u001b[0m \u001b[1m0s\u001b[0m 454ms/step - accuracy: 0.9933 - loss: 0.0315 - precision_3: 0.8707 - recall_3: 0.8345"
     ]
    },
    {
     "name": "stderr",
     "output_type": "stream",
     "text": [
      "WARNING:absl:You are saving your model as an HDF5 file via `model.save()` or `keras.saving.save_model(model)`. This file format is considered legacy. We recommend using instead the native Keras format, e.g. `model.save('my_model.keras')` or `keras.saving.save_model(model, 'my_model.keras')`. \n"
     ]
    },
    {
     "name": "stdout",
     "output_type": "stream",
     "text": [
      "\u001b[1m3491/3491\u001b[0m \u001b[32m━━━━━━━━━━━━━━━━━━━━\u001b[0m\u001b[37m\u001b[0m \u001b[1m1624s\u001b[0m 465ms/step - accuracy: 0.9933 - loss: 0.0315 - precision_3: 0.8707 - recall_3: 0.8345 - val_accuracy: 0.9943 - val_loss: 0.0283 - val_precision_3: 0.8785 - val_recall_3: 0.8646\n",
      "Epoch 7/20\n",
      "\u001b[1m3491/3491\u001b[0m \u001b[32m━━━━━━━━━━━━━━━━━━━━\u001b[0m\u001b[37m\u001b[0m \u001b[1m0s\u001b[0m 399ms/step - accuracy: 0.9937 - loss: 0.0282 - precision_3: 0.8859 - recall_3: 0.8599"
     ]
    },
    {
     "name": "stderr",
     "output_type": "stream",
     "text": [
      "WARNING:absl:You are saving your model as an HDF5 file via `model.save()` or `keras.saving.save_model(model)`. This file format is considered legacy. We recommend using instead the native Keras format, e.g. `model.save('my_model.keras')` or `keras.saving.save_model(model, 'my_model.keras')`. \n"
     ]
    },
    {
     "name": "stdout",
     "output_type": "stream",
     "text": [
      "\u001b[1m3491/3491\u001b[0m \u001b[32m━━━━━━━━━━━━━━━━━━━━\u001b[0m\u001b[37m\u001b[0m \u001b[1m1471s\u001b[0m 421ms/step - accuracy: 0.9937 - loss: 0.0282 - precision_3: 0.8859 - recall_3: 0.8599 - val_accuracy: 0.9924 - val_loss: 0.0247 - val_precision_3: 0.9140 - val_recall_3: 0.8544\n",
      "Epoch 8/20\n",
      "\u001b[1m3491/3491\u001b[0m \u001b[32m━━━━━━━━━━━━━━━━━━━━\u001b[0m\u001b[37m\u001b[0m \u001b[1m0s\u001b[0m 432ms/step - accuracy: 0.9699 - loss: 0.0255 - precision_3: 0.8906 - recall_3: 0.8800"
     ]
    },
    {
     "name": "stderr",
     "output_type": "stream",
     "text": [
      "WARNING:absl:You are saving your model as an HDF5 file via `model.save()` or `keras.saving.save_model(model)`. This file format is considered legacy. We recommend using instead the native Keras format, e.g. `model.save('my_model.keras')` or `keras.saving.save_model(model, 'my_model.keras')`. \n"
     ]
    },
    {
     "name": "stdout",
     "output_type": "stream",
     "text": [
      "\u001b[1m3491/3491\u001b[0m \u001b[32m━━━━━━━━━━━━━━━━━━━━\u001b[0m\u001b[37m\u001b[0m \u001b[1m1546s\u001b[0m 443ms/step - accuracy: 0.9699 - loss: 0.0255 - precision_3: 0.8906 - recall_3: 0.8800 - val_accuracy: 0.9879 - val_loss: 0.0215 - val_precision_3: 0.9161 - val_recall_3: 0.9045\n",
      "Epoch 9/20\n",
      "\u001b[1m3491/3491\u001b[0m \u001b[32m━━━━━━━━━━━━━━━━━━━━\u001b[0m\u001b[37m\u001b[0m \u001b[1m0s\u001b[0m 393ms/step - accuracy: 0.9836 - loss: 0.0222 - precision_3: 0.9030 - recall_3: 0.9015"
     ]
    },
    {
     "name": "stderr",
     "output_type": "stream",
     "text": [
      "WARNING:absl:You are saving your model as an HDF5 file via `model.save()` or `keras.saving.save_model(model)`. This file format is considered legacy. We recommend using instead the native Keras format, e.g. `model.save('my_model.keras')` or `keras.saving.save_model(model, 'my_model.keras')`. \n"
     ]
    },
    {
     "name": "stdout",
     "output_type": "stream",
     "text": [
      "\u001b[1m3491/3491\u001b[0m \u001b[32m━━━━━━━━━━━━━━━━━━━━\u001b[0m\u001b[37m\u001b[0m \u001b[1m1416s\u001b[0m 406ms/step - accuracy: 0.9836 - loss: 0.0222 - precision_3: 0.9030 - recall_3: 0.9015 - val_accuracy: 0.9873 - val_loss: 0.0192 - val_precision_3: 0.9143 - val_recall_3: 0.9168\n",
      "Epoch 10/20\n",
      "\u001b[1m3491/3491\u001b[0m \u001b[32m━━━━━━━━━━━━━━━━━━━━\u001b[0m\u001b[37m\u001b[0m \u001b[1m0s\u001b[0m 385ms/step - accuracy: 0.9831 - loss: 0.0201 - precision_3: 0.9127 - recall_3: 0.9117"
     ]
    },
    {
     "name": "stderr",
     "output_type": "stream",
     "text": [
      "WARNING:absl:You are saving your model as an HDF5 file via `model.save()` or `keras.saving.save_model(model)`. This file format is considered legacy. We recommend using instead the native Keras format, e.g. `model.save('my_model.keras')` or `keras.saving.save_model(model, 'my_model.keras')`. \n"
     ]
    },
    {
     "name": "stdout",
     "output_type": "stream",
     "text": [
      "\u001b[1m3491/3491\u001b[0m \u001b[32m━━━━━━━━━━━━━━━━━━━━\u001b[0m\u001b[37m\u001b[0m \u001b[1m1388s\u001b[0m 398ms/step - accuracy: 0.9831 - loss: 0.0201 - precision_3: 0.9127 - recall_3: 0.9117 - val_accuracy: 0.9940 - val_loss: 0.0178 - val_precision_3: 0.9394 - val_recall_3: 0.9062\n",
      "Epoch 11/20\n",
      "\u001b[1m3491/3491\u001b[0m \u001b[32m━━━━━━━━━━━━━━━━━━━━\u001b[0m\u001b[37m\u001b[0m \u001b[1m0s\u001b[0m 384ms/step - accuracy: 0.9541 - loss: 0.0168 - precision_3: 0.9314 - recall_3: 0.9208"
     ]
    },
    {
     "name": "stderr",
     "output_type": "stream",
     "text": [
      "WARNING:absl:You are saving your model as an HDF5 file via `model.save()` or `keras.saving.save_model(model)`. This file format is considered legacy. We recommend using instead the native Keras format, e.g. `model.save('my_model.keras')` or `keras.saving.save_model(model, 'my_model.keras')`. \n"
     ]
    },
    {
     "name": "stdout",
     "output_type": "stream",
     "text": [
      "\u001b[1m3491/3491\u001b[0m \u001b[32m━━━━━━━━━━━━━━━━━━━━\u001b[0m\u001b[37m\u001b[0m \u001b[1m1383s\u001b[0m 396ms/step - accuracy: 0.9541 - loss: 0.0168 - precision_3: 0.9314 - recall_3: 0.9208 - val_accuracy: 0.9896 - val_loss: 0.0140 - val_precision_3: 0.9496 - val_recall_3: 0.9312\n",
      "Epoch 12/20\n",
      "\u001b[1m3491/3491\u001b[0m \u001b[32m━━━━━━━━━━━━━━━━━━━━\u001b[0m\u001b[37m\u001b[0m \u001b[1m0s\u001b[0m 373ms/step - accuracy: 0.9917 - loss: 0.0149 - precision_3: 0.9389 - recall_3: 0.9304"
     ]
    },
    {
     "name": "stderr",
     "output_type": "stream",
     "text": [
      "WARNING:absl:You are saving your model as an HDF5 file via `model.save()` or `keras.saving.save_model(model)`. This file format is considered legacy. We recommend using instead the native Keras format, e.g. `model.save('my_model.keras')` or `keras.saving.save_model(model, 'my_model.keras')`. \n"
     ]
    },
    {
     "name": "stdout",
     "output_type": "stream",
     "text": [
      "\u001b[1m3491/3491\u001b[0m \u001b[32m━━━━━━━━━━━━━━━━━━━━\u001b[0m\u001b[37m\u001b[0m \u001b[1m1339s\u001b[0m 384ms/step - accuracy: 0.9917 - loss: 0.0149 - precision_3: 0.9389 - recall_3: 0.9304 - val_accuracy: 0.9833 - val_loss: 0.0124 - val_precision_3: 0.9590 - val_recall_3: 0.9327\n",
      "Epoch 13/20\n",
      "\u001b[1m3491/3491\u001b[0m \u001b[32m━━━━━━━━━━━━━━━━━━━━\u001b[0m\u001b[37m\u001b[0m \u001b[1m0s\u001b[0m 372ms/step - accuracy: 0.9495 - loss: 0.0135 - precision_3: 0.9472 - recall_3: 0.9395"
     ]
    },
    {
     "name": "stderr",
     "output_type": "stream",
     "text": [
      "WARNING:absl:You are saving your model as an HDF5 file via `model.save()` or `keras.saving.save_model(model)`. This file format is considered legacy. We recommend using instead the native Keras format, e.g. `model.save('my_model.keras')` or `keras.saving.save_model(model, 'my_model.keras')`. \n"
     ]
    },
    {
     "name": "stdout",
     "output_type": "stream",
     "text": [
      "\u001b[1m3491/3491\u001b[0m \u001b[32m━━━━━━━━━━━━━━━━━━━━\u001b[0m\u001b[37m\u001b[0m \u001b[1m1337s\u001b[0m 383ms/step - accuracy: 0.9495 - loss: 0.0135 - precision_3: 0.9472 - recall_3: 0.9395 - val_accuracy: 0.5690 - val_loss: 0.0115 - val_precision_3: 0.9526 - val_recall_3: 0.9502\n",
      "Epoch 14/20\n",
      "\u001b[1m3491/3491\u001b[0m \u001b[32m━━━━━━━━━━━━━━━━━━━━\u001b[0m\u001b[37m\u001b[0m \u001b[1m0s\u001b[0m 384ms/step - accuracy: 0.5625 - loss: 0.0112 - precision_3: 0.9527 - recall_3: 0.9485"
     ]
    },
    {
     "name": "stderr",
     "output_type": "stream",
     "text": [
      "WARNING:absl:You are saving your model as an HDF5 file via `model.save()` or `keras.saving.save_model(model)`. This file format is considered legacy. We recommend using instead the native Keras format, e.g. `model.save('my_model.keras')` or `keras.saving.save_model(model, 'my_model.keras')`. \n"
     ]
    },
    {
     "name": "stdout",
     "output_type": "stream",
     "text": [
      "\u001b[1m3491/3491\u001b[0m \u001b[32m━━━━━━━━━━━━━━━━━━━━\u001b[0m\u001b[37m\u001b[0m \u001b[1m1378s\u001b[0m 395ms/step - accuracy: 0.5625 - loss: 0.0112 - precision_3: 0.9527 - recall_3: 0.9485 - val_accuracy: 0.9886 - val_loss: 0.0093 - val_precision_3: 0.9654 - val_recall_3: 0.9556\n",
      "Epoch 15/20\n",
      "\u001b[1m3491/3491\u001b[0m \u001b[32m━━━━━━━━━━━━━━━━━━━━\u001b[0m\u001b[37m\u001b[0m \u001b[1m0s\u001b[0m 378ms/step - accuracy: 0.9381 - loss: 0.0103 - precision_3: 0.9555 - recall_3: 0.9534"
     ]
    },
    {
     "name": "stderr",
     "output_type": "stream",
     "text": [
      "WARNING:absl:You are saving your model as an HDF5 file via `model.save()` or `keras.saving.save_model(model)`. This file format is considered legacy. We recommend using instead the native Keras format, e.g. `model.save('my_model.keras')` or `keras.saving.save_model(model, 'my_model.keras')`. \n"
     ]
    },
    {
     "name": "stdout",
     "output_type": "stream",
     "text": [
      "\u001b[1m3491/3491\u001b[0m \u001b[32m━━━━━━━━━━━━━━━━━━━━\u001b[0m\u001b[37m\u001b[0m \u001b[1m1356s\u001b[0m 389ms/step - accuracy: 0.9382 - loss: 0.0103 - precision_3: 0.9555 - recall_3: 0.9534 - val_accuracy: 0.9792 - val_loss: 0.0088 - val_precision_3: 0.9617 - val_recall_3: 0.9632\n",
      "Epoch 16/20\n",
      "\u001b[1m3491/3491\u001b[0m \u001b[32m━━━━━━━━━━━━━━━━━━━━\u001b[0m\u001b[37m\u001b[0m \u001b[1m0s\u001b[0m 383ms/step - accuracy: 0.8686 - loss: 0.0092 - precision_3: 0.9574 - recall_3: 0.9598"
     ]
    },
    {
     "name": "stderr",
     "output_type": "stream",
     "text": [
      "WARNING:absl:You are saving your model as an HDF5 file via `model.save()` or `keras.saving.save_model(model)`. This file format is considered legacy. We recommend using instead the native Keras format, e.g. `model.save('my_model.keras')` or `keras.saving.save_model(model, 'my_model.keras')`. \n"
     ]
    },
    {
     "name": "stdout",
     "output_type": "stream",
     "text": [
      "\u001b[1m3491/3491\u001b[0m \u001b[32m━━━━━━━━━━━━━━━━━━━━\u001b[0m\u001b[37m\u001b[0m \u001b[1m1377s\u001b[0m 394ms/step - accuracy: 0.8686 - loss: 0.0092 - precision_3: 0.9574 - recall_3: 0.9598 - val_accuracy: 0.9833 - val_loss: 0.0080 - val_precision_3: 0.9667 - val_recall_3: 0.9666\n",
      "Epoch 17/20\n",
      "\u001b[1m3491/3491\u001b[0m \u001b[32m━━━━━━━━━━━━━━━━━━━━\u001b[0m\u001b[37m\u001b[0m \u001b[1m0s\u001b[0m 672ms/step - accuracy: 0.7398 - loss: 0.0081 - precision_3: 0.9640 - recall_3: 0.9651"
     ]
    },
    {
     "name": "stderr",
     "output_type": "stream",
     "text": [
      "WARNING:absl:You are saving your model as an HDF5 file via `model.save()` or `keras.saving.save_model(model)`. This file format is considered legacy. We recommend using instead the native Keras format, e.g. `model.save('my_model.keras')` or `keras.saving.save_model(model, 'my_model.keras')`. \n"
     ]
    },
    {
     "name": "stdout",
     "output_type": "stream",
     "text": [
      "\u001b[1m3491/3491\u001b[0m \u001b[32m━━━━━━━━━━━━━━━━━━━━\u001b[0m\u001b[37m\u001b[0m \u001b[1m2385s\u001b[0m 683ms/step - accuracy: 0.7398 - loss: 0.0081 - precision_3: 0.9640 - recall_3: 0.9651 - val_accuracy: 0.9928 - val_loss: 0.0073 - val_precision_3: 0.9705 - val_recall_3: 0.9614\n",
      "Epoch 18/20\n",
      "\u001b[1m3491/3491\u001b[0m \u001b[32m━━━━━━━━━━━━━━━━━━━━\u001b[0m\u001b[37m\u001b[0m \u001b[1m0s\u001b[0m 809ms/step - accuracy: 0.8575 - loss: 0.0075 - precision_3: 0.9656 - recall_3: 0.9665"
     ]
    },
    {
     "name": "stderr",
     "output_type": "stream",
     "text": [
      "WARNING:absl:You are saving your model as an HDF5 file via `model.save()` or `keras.saving.save_model(model)`. This file format is considered legacy. We recommend using instead the native Keras format, e.g. `model.save('my_model.keras')` or `keras.saving.save_model(model, 'my_model.keras')`. \n"
     ]
    },
    {
     "name": "stdout",
     "output_type": "stream",
     "text": [
      "\u001b[1m3491/3491\u001b[0m \u001b[32m━━━━━━━━━━━━━━━━━━━━\u001b[0m\u001b[37m\u001b[0m \u001b[1m2863s\u001b[0m 820ms/step - accuracy: 0.8575 - loss: 0.0075 - precision_3: 0.9656 - recall_3: 0.9665 - val_accuracy: 0.9921 - val_loss: 0.0067 - val_precision_3: 0.9659 - val_recall_3: 0.9779\n",
      "Epoch 19/20\n",
      "\u001b[1m3491/3491\u001b[0m \u001b[32m━━━━━━━━━━━━━━━━━━━━\u001b[0m\u001b[37m\u001b[0m \u001b[1m0s\u001b[0m 391ms/step - accuracy: 0.9693 - loss: 0.0067 - precision_3: 0.9680 - recall_3: 0.9716"
     ]
    },
    {
     "name": "stderr",
     "output_type": "stream",
     "text": [
      "WARNING:absl:You are saving your model as an HDF5 file via `model.save()` or `keras.saving.save_model(model)`. This file format is considered legacy. We recommend using instead the native Keras format, e.g. `model.save('my_model.keras')` or `keras.saving.save_model(model, 'my_model.keras')`. \n"
     ]
    },
    {
     "name": "stdout",
     "output_type": "stream",
     "text": [
      "\u001b[1m3491/3491\u001b[0m \u001b[32m━━━━━━━━━━━━━━━━━━━━\u001b[0m\u001b[37m\u001b[0m \u001b[1m1405s\u001b[0m 402ms/step - accuracy: 0.9693 - loss: 0.0067 - precision_3: 0.9680 - recall_3: 0.9716 - val_accuracy: 0.9947 - val_loss: 0.0059 - val_precision_3: 0.9666 - val_recall_3: 0.9811\n",
      "Epoch 20/20\n",
      "\u001b[1m3491/3491\u001b[0m \u001b[32m━━━━━━━━━━━━━━━━━━━━\u001b[0m\u001b[37m\u001b[0m \u001b[1m0s\u001b[0m 462ms/step - accuracy: 0.7835 - loss: 0.0059 - precision_3: 0.9744 - recall_3: 0.9751"
     ]
    },
    {
     "name": "stderr",
     "output_type": "stream",
     "text": [
      "WARNING:absl:You are saving your model as an HDF5 file via `model.save()` or `keras.saving.save_model(model)`. This file format is considered legacy. We recommend using instead the native Keras format, e.g. `model.save('my_model.keras')` or `keras.saving.save_model(model, 'my_model.keras')`. \n"
     ]
    },
    {
     "name": "stdout",
     "output_type": "stream",
     "text": [
      "\u001b[1m3491/3491\u001b[0m \u001b[32m━━━━━━━━━━━━━━━━━━━━\u001b[0m\u001b[37m\u001b[0m \u001b[1m1655s\u001b[0m 474ms/step - accuracy: 0.7835 - loss: 0.0059 - precision_3: 0.9744 - recall_3: 0.9751 - val_accuracy: 0.1856 - val_loss: 0.0051 - val_precision_3: 0.9764 - val_recall_3: 0.9785\n"
     ]
    }
   ],
   "source": [
    "# Train model\n",
    "history = model.fit(\n",
    "    train_dataset,\n",
    "    validation_data=val_dataset,\n",
    "    epochs=20,\n",
    "    callbacks=[early_stop, checkpoint]\n",
    ")"
   ]
  },
  {
   "attachments": {},
   "cell_type": "markdown",
   "id": "95b00443",
   "metadata": {},
   "source": [
    "## Evaluating the model's performance"
   ]
  },
  {
   "cell_type": "code",
   "execution_count": 105,
   "id": "b86bae6f",
   "metadata": {},
   "outputs": [
    {
     "name": "stdout",
     "output_type": "stream",
     "text": [
      "\u001b[1m499/499\u001b[0m \u001b[32m━━━━━━━━━━━━━━━━━━━━\u001b[0m\u001b[37m\u001b[0m \u001b[1m20s\u001b[0m 40ms/step - accuracy: 0.1898 - loss: 0.0048 - precision_3: 0.9810 - recall_3: 0.9822\n",
      "Test Loss: 0.0050\n",
      "Test Accuracy: 0.1842\n",
      "Test Precision: 0.9764\n",
      "Test Recall: 0.9808\n",
      "Test F1 Score: 0.9786\n"
     ]
    }
   ],
   "source": [
    "# Evaluate model\n",
    "loss, accuracy, precision, recall = model.evaluate(test_dataset)\n",
    "print(f\"Test Loss: {loss:.4f}\")\n",
    "print(f\"Test Accuracy: {accuracy:.4f}\")\n",
    "print(f\"Test Precision: {precision:.4f}\")\n",
    "print(f\"Test Recall: {recall:.4f}\")\n",
    "\n",
    "# Compute F1 score\n",
    "f1_score = 2 * (precision * recall) / (precision + recall + 1e-7)\n",
    "print(f\"Test F1 Score: {f1_score:.4f}\")"
   ]
  },
  {
   "cell_type": "code",
   "execution_count": 107,
   "id": "e59773e1",
   "metadata": {},
   "outputs": [
    {
     "data": {
      "image/png": "[encoded data removed]",
      "text/plain": [
       "<Figure size 640x480 with 1 Axes>"
      ]
     },
     "metadata": {},
     "output_type": "display_data"
    }
   ],
   "source": [
    "# Plot training history\n",
    "plt.plot(history.history['loss'], label='loss')\n",
    "plt.plot(history.history['val_loss'], label='val_loss')\n",
    "plt.title('Loss vs Epochs')\n",
    "plt.xlabel('Epoch')\n",
    "plt.ylabel('Loss')\n",
    "plt.legend()\n",
    "plt.show()"
   ]
  }
 ],
 "metadata": {
  "kernelspec": {
   "display_name": "Python 3",
   "language": "python",
   "name": "python3"
  },
  "language_info": {
   "codemirror_mode": {
    "name": "ipython",
    "version": 3
   },
   "file_extension": ".py",
   "mimetype": "text/x-python",
   "name": "python",
   "nbconvert_exporter": "python",
   "pygments_lexer": "ipython3",
   "version": "3.12.7"
  },
  "vscode": {
   "interpreter": {
    "hash": "40d3a090f54c6569ab1632332b64b2c03c39dcf918b08424e98f38b5ae0af88f"
   }
  }
 },
 "nbformat": 4,
 "nbformat_minor": 5
}
